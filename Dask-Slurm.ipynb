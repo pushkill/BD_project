{
 "cells": [
  {
   "cell_type": "markdown",
   "metadata": {},
   "source": [
    "##  Dask on SLURM\n",
    "\n",
    "### Preliminaries (Arnes):\n",
    "\n",
    "- Existing Lmod Anaconda3 module (Python 3.6) : `module load Anaconda3`\n",
    "- Anaconda environment: `conda create -n bd39 python=3.9 anaconda xarray streamz`\n",
    "- SLURM cluster: `(bd39) pip install dask_jobqueue`\n",
    "- Jupyter kernel: `(bd39) python -m ipykernel install --user --name bd39 --display-name \"Python (bd39)\"`\n",
    "\n",
    "### Login\n",
    "\n",
    "Beware: notebooks in ~/notebooks. Use the same login node thoroughout the session!\n",
    "- SSH: `ssh mkukar@hpc-login2.arnes.si`\n",
    "- Anaconda env: `module load Anaconda3 && conda activate bd39`\n",
    "- Jupyter: `jupyter notebook --no-browser --port=8080 --notebook-dir ~/notebooks`\n",
    "- SSH tunnel: `ssh -N -o ServerAliveInterval=30 -L localhost:8080:localhost:8080 -L localhost:8087:localhost:8087 mkukar@hpc-login2.arnes.si\"`\n",
    "- Notebook: [`http://localhost:8080`](http://localhost:8080)\n",
    "- Dashboard: [http://localhost:8087](http://localhost:8087) \n",
    "- SSH tunnel: `ssh -N -L 8080:localhost:8080 mkukar@hpc-login2.arnes.si`\n",
    "\n",
    "### SLURM \n",
    "\n",
    "- SLURM info: `sinfo`\n",
    "- Show all my jobs: `squeue --me`\n",
    "- Cancel all my jobs: `squeue -u $USER | awk '{print $1}' | tail -n+2 | xargs scancel`\n",
    "\n",
    "### References\n",
    "1. SlurmCluster: http://jobqueue.dask.org/en/latest/generated/dask_jobqueue.SLURMCluster.html\n",
    "2. Dask on Summit: https://blog.dask.org/2019/08/28/dask-on-summit\n",
    "3. Dask on HPC: https://www.youtube.com/watch?v=FXsgmwpRExM&t=872s\n",
    "4. Chunk sizes: https://blog.dask.org/2021/11/02/choosing-dask-chunk-sizes"
   ]
  },
  {
   "cell_type": "code",
   "execution_count": 1,
   "metadata": {},
   "outputs": [
    {
     "name": "stdout",
     "output_type": "stream",
     "text": [
      "3.9.7\n"
     ]
    }
   ],
   "source": [
    "import warnings; warnings.simplefilter(action='ignore', category=FutureWarning)\n",
    "import dask_jobqueue\n",
    "from distributed import Client\n",
    "from contextlib import suppress \n",
    "import platform; print( platform.python_version () )"
   ]
  },
  {
   "cell_type": "code",
   "execution_count": 1,
   "metadata": {},
   "outputs": [
    {
     "ename": "NameError",
     "evalue": "name 'suppress' is not defined",
     "output_type": "error",
     "traceback": [
      "\u001b[0;31m---------------------------------------------------------------------------\u001b[0m",
      "\u001b[0;31mNameError\u001b[0m                                 Traceback (most recent call last)",
      "\u001b[0;32m<ipython-input-1-a11c7c2e9380>\u001b[0m in \u001b[0;36m<module>\u001b[0;34m\u001b[0m\n\u001b[0;32m----> 1\u001b[0;31m \u001b[0;32mwith\u001b[0m \u001b[0msuppress\u001b[0m\u001b[0;34m(\u001b[0m\u001b[0mException\u001b[0m\u001b[0;34m)\u001b[0m\u001b[0;34m:\u001b[0m\u001b[0;34m\u001b[0m\u001b[0;34m\u001b[0m\u001b[0m\n\u001b[0m\u001b[1;32m      2\u001b[0m     \u001b[0mclient\u001b[0m\u001b[0;34m.\u001b[0m\u001b[0mshutdown\u001b[0m\u001b[0;34m(\u001b[0m\u001b[0;34m)\u001b[0m\u001b[0;34m\u001b[0m\u001b[0;34m\u001b[0m\u001b[0m\n\u001b[1;32m      3\u001b[0m \u001b[0;34m\u001b[0m\u001b[0m\n\u001b[1;32m      4\u001b[0m cluster = dask_jobqueue.SLURMCluster(\n\u001b[1;32m      5\u001b[0m             \u001b[0mqueue\u001b[0m \u001b[0;34m=\u001b[0m \u001b[0;34m'all'\u001b[0m\u001b[0;34m,\u001b[0m\u001b[0;34m\u001b[0m\u001b[0;34m\u001b[0m\u001b[0m\n",
      "\u001b[0;31mNameError\u001b[0m: name 'suppress' is not defined"
     ]
    }
   ],
   "source": [
    "with suppress(Exception):\n",
    "    client.shutdown()\n",
    "\n",
    "cluster = dask_jobqueue.SLURMCluster(\n",
    "            queue = 'all', \n",
    "            processes=2,\n",
    "            cores=16, \n",
    "            memory='32GB',\n",
    "            scheduler_options={'dashboard_address': ':8087'},\n",
    "            death_timeout=120 # seconds\n",
    "          )\n",
    "\n",
    "client = Client(cluster, timeout=\"120s\")\n",
    "display(client.cluster)"
   ]
  },
  {
   "cell_type": "code",
   "execution_count": 29,
   "metadata": {},
   "outputs": [
    {
     "data": {
      "application/vnd.jupyter.widget-view+json": {
       "model_id": "48c2a848d0f64ccc98a1131d44771816",
       "version_major": 2,
       "version_minor": 0
      },
      "text/plain": [
       "Tab(children=(HTML(value='<div class=\"jp-RenderedHTMLCommon jp-RenderedHTML jp-mod-trusted jp-OutputArea-outpu…"
      ]
     },
     "metadata": {},
     "output_type": "display_data"
    }
   ],
   "source": [
    "client.cluster.scale(16)\n",
    "display(client.cluster)"
   ]
  },
  {
   "cell_type": "markdown",
   "metadata": {},
   "source": [
    "## Test with bag"
   ]
  },
  {
   "cell_type": "code",
   "execution_count": 35,
   "metadata": {},
   "outputs": [
    {
     "name": "stdout",
     "output_type": "stream",
     "text": [
      "dask.bag<from_sequence, npartitions=16>\n",
      "{('153.5.72.252', '3.9.7')} [('153.5.72.252', '3.9.7'), ('153.5.72.252', '3.9.7'), ('153.5.72.252', '3.9.7'), ('153.5.72.252', '3.9.7'), ('153.5.72.252', '3.9.7'), ('153.5.72.252', '3.9.7'), ('153.5.72.252', '3.9.7'), ('153.5.72.252', '3.9.7'), ('153.5.72.252', '3.9.7'), ('153.5.72.252', '3.9.7'), ('153.5.72.252', '3.9.7'), ('153.5.72.252', '3.9.7'), ('153.5.72.252', '3.9.7'), ('153.5.72.252', '3.9.7'), ('153.5.72.252', '3.9.7'), ('153.5.72.252', '3.9.7')]\n"
     ]
    }
   ],
   "source": [
    "import dask.bag as db\n",
    "\n",
    "def bag_map(x):\n",
    "    import platform, socket; \n",
    "    version = platform.python_version() \n",
    "    ip      = socket.gethostbyname(socket.gethostname()) \n",
    "    return (ip, version)\n",
    "\n",
    "data = list(range(1,16+1))\n",
    "b = db.from_sequence(data, npartitions=len(data))\n",
    "print(b)\n",
    "\n",
    "bm = b.map(bag_map)\n",
    "bmc = bm.compute()\n",
    "print(set(bmc), bmc)\n"
   ]
  },
  {
   "cell_type": "markdown",
   "metadata": {},
   "source": [
    "## Test with array"
   ]
  },
  {
   "cell_type": "code",
   "execution_count": null,
   "metadata": {},
   "outputs": [],
   "source": [
    "import dask.array as da\n",
    "x = da.random.random((10000, 10000), chunks=(1000, 1000))\n",
    "display(x)\n",
    "y = x + x.T\n",
    "z = y[::2, 5000:].mean(axis=1)\n",
    "display(z)\n",
    "print(client.cluster.job_script())"
   ]
  },
  {
   "cell_type": "code",
   "execution_count": null,
   "metadata": {},
   "outputs": [],
   "source": [
    "zz = z.compute()\n",
    "print(len(zz))"
   ]
  },
  {
   "cell_type": "markdown",
   "metadata": {},
   "source": [
    "# Shutdown"
   ]
  },
  {
   "cell_type": "code",
   "execution_count": null,
   "metadata": {},
   "outputs": [],
   "source": [
    "client.shutdown()"
   ]
  }
 ],
 "metadata": {
  "kernelspec": {
   "display_name": "Python 3",
   "language": "python",
   "name": "python3"
  },
  "language_info": {
   "codemirror_mode": {
    "name": "ipython",
    "version": 3
   },
   "file_extension": ".py",
   "mimetype": "text/x-python",
   "name": "python",
   "nbconvert_exporter": "python",
   "pygments_lexer": "ipython3",
   "version": "3.8.5"
  },
  "toc": {
   "base_numbering": 1,
   "nav_menu": {},
   "number_sections": true,
   "sideBar": true,
   "skip_h1_title": false,
   "title_cell": "Table of Contents",
   "title_sidebar": "Contents",
   "toc_cell": false,
   "toc_position": {},
   "toc_section_display": true,
   "toc_window_display": true
  }
 },
 "nbformat": 4,
 "nbformat_minor": 5
}
