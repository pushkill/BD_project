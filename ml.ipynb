{
 "cells": [
  {
   "cell_type": "code",
   "execution_count": 1,
   "id": "f2286d71",
   "metadata": {},
   "outputs": [
    {
     "name": "stdout",
     "output_type": "stream",
     "text": [
      "['2014.csv', '2015.csv', '2016.csv', '2017.csv', '2018.csv', '2019.csv', '2020.csv', '2021.csv', '2022.csv']\n"
     ]
    }
   ],
   "source": [
    "import warnings; warnings.simplefilter(action='ignore', category=FutureWarning)\n",
    "import pyarrow as pa\n",
    "import pyarrow.parquet as pq\n",
    "from pyarrow import csv\n",
    "from pyarrow import dataset as ds\n",
    "import os\n",
    "import numpy as np\n",
    "import pandas as pd\n",
    "\n",
    "\n",
    "import dask_jobqueue\n",
    "import dask\n",
    "import dask.dataframe as dd\n",
    "import time\n",
    "\n",
    "from distributed import Client\n",
    "from contextlib import suppress \n",
    "import platform\n",
    "\n",
    "PATH = \"/d/hpc/projects/FRI/bigdata/students/mfmt/\"\n",
    "CSV_PATH = \"/d/hpc/projects/FRI/bigdata/data/NYTickets\"\n",
    "PARQUET_FILENAME = \"entire_1.parquet\"\n",
    "PARQUET_PATH = \"/d/hpc/projects/FRI/bigdata/students/mfmt/parquet_aug\"\n",
    "DATA_AUG_PATH = \"/d/hpc/home/mf4782/BD_project/data/\"\n",
    "\n",
    "files = os.listdir(CSV_PATH)\n",
    "files = list([f for f in files if \".csv\" in f])\n",
    "files.sort()\n",
    "print(files)"
   ]
  },
  {
   "cell_type": "code",
   "execution_count": 2,
   "id": "e4b27677",
   "metadata": {},
   "outputs": [
    {
     "name": "stderr",
     "output_type": "stream",
     "text": [
      "/cvmfs/sling.si/modules/el7/software/Anaconda3/2021.11/lib/python3.9/site-packages/distributed/node.py:160: UserWarning: Port 21722 is already in use.\n",
      "Perhaps you already have a cluster running?\n",
      "Hosting the HTTP server on port 34885 instead\n",
      "  warnings.warn(\n"
     ]
    },
    {
     "data": {
      "application/vnd.jupyter.widget-view+json": {
       "model_id": "40fd7dc7b42f4acf9bfe14236a5456cd",
       "version_major": 2,
       "version_minor": 0
      },
      "text/plain": [
       "Tab(children=(HTML(value='<div class=\"jp-RenderedHTMLCommon jp-RenderedHTML jp-mod-trusted jp-OutputArea-outpu…"
      ]
     },
     "metadata": {},
     "output_type": "display_data"
    }
   ],
   "source": [
    "with suppress(Exception):\n",
    "    client.shutdown()\n",
    "\n",
    "cluster = dask_jobqueue.SLURMCluster(\n",
    "            queue = 'all', \n",
    "            processes=1,\n",
    "            cores=16, \n",
    "            memory='8GB',\n",
    "            scheduler_options={'dashboard_address': ':21722'},\n",
    "            death_timeout=120, # seconds\n",
    "            walltime=\"1-01:30\",\n",
    "          )\n",
    "\n",
    "client = Client(cluster, timeout=\"120s\")#, memory_limit='8GB')\n",
    "display(client.cluster)"
   ]
  },
  {
   "cell_type": "code",
   "execution_count": 3,
   "id": "d494afc6",
   "metadata": {},
   "outputs": [
    {
     "data": {
      "application/vnd.jupyter.widget-view+json": {
       "model_id": "40fd7dc7b42f4acf9bfe14236a5456cd",
       "version_major": 2,
       "version_minor": 0
      },
      "text/plain": [
       "Tab(children=(HTML(value='<div class=\"jp-RenderedHTMLCommon jp-RenderedHTML jp-mod-trusted jp-OutputArea-outpu…"
      ]
     },
     "metadata": {},
     "output_type": "display_data"
    }
   ],
   "source": [
    "client.cluster.scale(16)\n",
    "display(client.cluster)"
   ]
  },
  {
   "cell_type": "code",
   "execution_count": 63,
   "id": "a9282c75",
   "metadata": {},
   "outputs": [],
   "source": [
    "client.shutdown()"
   ]
  },
  {
   "cell_type": "code",
   "execution_count": 18,
   "id": "96bcc491",
   "metadata": {},
   "outputs": [
    {
     "data": {
      "text/html": [
       "<div>\n",
       "<style scoped>\n",
       "    .dataframe tbody tr th:only-of-type {\n",
       "        vertical-align: middle;\n",
       "    }\n",
       "\n",
       "    .dataframe tbody tr th {\n",
       "        vertical-align: top;\n",
       "    }\n",
       "\n",
       "    .dataframe thead th {\n",
       "        text-align: right;\n",
       "    }\n",
       "</style>\n",
       "<table border=\"1\" class=\"dataframe\">\n",
       "  <thead>\n",
       "    <tr style=\"text-align: right;\">\n",
       "      <th></th>\n",
       "      <th>Num Violations.</th>\n",
       "      <th>Date</th>\n",
       "    </tr>\n",
       "    <tr>\n",
       "      <th>Date</th>\n",
       "      <th></th>\n",
       "      <th></th>\n",
       "    </tr>\n",
       "  </thead>\n",
       "  <tbody>\n",
       "    <tr>\n",
       "      <th>1970-12-18</th>\n",
       "      <td>1</td>\n",
       "      <td>1970-12-18</td>\n",
       "    </tr>\n",
       "    <tr>\n",
       "      <th>1971-02-02</th>\n",
       "      <td>1</td>\n",
       "      <td>1971-02-02</td>\n",
       "    </tr>\n",
       "    <tr>\n",
       "      <th>1971-09-18</th>\n",
       "      <td>4</td>\n",
       "      <td>1971-09-18</td>\n",
       "    </tr>\n",
       "    <tr>\n",
       "      <th>1971-10-10</th>\n",
       "      <td>1</td>\n",
       "      <td>1971-10-10</td>\n",
       "    </tr>\n",
       "    <tr>\n",
       "      <th>1973-04-05</th>\n",
       "      <td>1</td>\n",
       "      <td>1973-04-05</td>\n",
       "    </tr>\n",
       "  </tbody>\n",
       "</table>\n",
       "</div>"
      ],
      "text/plain": [
       "            Num Violations.        Date\n",
       "Date                                   \n",
       "1970-12-18                1  1970-12-18\n",
       "1971-02-02                1  1971-02-02\n",
       "1971-09-18                4  1971-09-18\n",
       "1971-10-10                1  1971-10-10\n",
       "1973-04-05                1  1973-04-05"
      ]
     },
     "execution_count": 18,
     "metadata": {},
     "output_type": "execute_result"
    }
   ],
   "source": [
    "#,\n",
    "df = dd.read_parquet(PARQUET_PATH, columns=['Date','Summons Number'])\n",
    "df = df.groupby(\"Date\").count()\n",
    "df = df.rename(columns=({'Summons Number':\"Num Violations.\"}))\n",
    "\n",
    "df_c = df.compute()\n",
    "df_c[\"Date\"] = df_c.index\n",
    "df_c = df_c[~df_c[\"Date\"].isnull()]\n",
    "df_c.head(5)"
   ]
  },
  {
   "cell_type": "code",
   "execution_count": 19,
   "id": "46c6359b",
   "metadata": {},
   "outputs": [
    {
     "data": {
      "text/html": [
       "<div>\n",
       "<style scoped>\n",
       "    .dataframe tbody tr th:only-of-type {\n",
       "        vertical-align: middle;\n",
       "    }\n",
       "\n",
       "    .dataframe tbody tr th {\n",
       "        vertical-align: top;\n",
       "    }\n",
       "\n",
       "    .dataframe thead th {\n",
       "        text-align: right;\n",
       "    }\n",
       "</style>\n",
       "<table border=\"1\" class=\"dataframe\">\n",
       "  <thead>\n",
       "    <tr style=\"text-align: right;\">\n",
       "      <th></th>\n",
       "      <th>Num Violations.</th>\n",
       "      <th>Date</th>\n",
       "    </tr>\n",
       "    <tr>\n",
       "      <th>Date</th>\n",
       "      <th></th>\n",
       "      <th></th>\n",
       "    </tr>\n",
       "  </thead>\n",
       "  <tbody>\n",
       "    <tr>\n",
       "      <th>2013-01-01</th>\n",
       "      <td>62</td>\n",
       "      <td>2013-01-01</td>\n",
       "    </tr>\n",
       "    <tr>\n",
       "      <th>2013-01-02</th>\n",
       "      <td>85</td>\n",
       "      <td>2013-01-02</td>\n",
       "    </tr>\n",
       "    <tr>\n",
       "      <th>2013-01-03</th>\n",
       "      <td>38</td>\n",
       "      <td>2013-01-03</td>\n",
       "    </tr>\n",
       "    <tr>\n",
       "      <th>2013-01-04</th>\n",
       "      <td>105</td>\n",
       "      <td>2013-01-04</td>\n",
       "    </tr>\n",
       "    <tr>\n",
       "      <th>2013-01-05</th>\n",
       "      <td>496</td>\n",
       "      <td>2013-01-05</td>\n",
       "    </tr>\n",
       "  </tbody>\n",
       "</table>\n",
       "</div>"
      ],
      "text/plain": [
       "            Num Violations.       Date\n",
       "Date                                  \n",
       "2013-01-01               62 2013-01-01\n",
       "2013-01-02               85 2013-01-02\n",
       "2013-01-03               38 2013-01-03\n",
       "2013-01-04              105 2013-01-04\n",
       "2013-01-05              496 2013-01-05"
      ]
     },
     "execution_count": 19,
     "metadata": {},
     "output_type": "execute_result"
    }
   ],
   "source": [
    "#df_c = df_c.reset_index()[[\"Date\", \"Num Violations.\"]]\n",
    "df_c[\"Date\"] = pd.to_datetime(df_c[\"Date\"])\n",
    "df_c = df_c[(df_c[\"Date\"].dt.year > 2012) & (df_c[\"Date\"].dt.year < 2023)]\n",
    "df_c.head(5)"
   ]
  },
  {
   "cell_type": "code",
   "execution_count": 37,
   "id": "84d2370e",
   "metadata": {},
   "outputs": [
    {
     "name": "stdout",
     "output_type": "stream",
     "text": [
      "            Street Name  Elementary  High School  PoI\n",
      "Date                                                 \n",
      "1970-12-02            0           0            0    0\n",
      "1971-05-20            0           0            0    0\n",
      "1971-10-31            0           0            0    0\n",
      "1971-11-06            0           0            0    0\n",
      "1972-03-30            0           0            0    0\n",
      "...                 ...         ...          ...  ...\n",
      "2068-05-12            0           0            0    0\n",
      "2068-06-18            0           0            0    0\n",
      "2069-04-07            0           0            0    0\n",
      "2069-06-19            0           0            0    0\n",
      "2069-11-19            0           0            0    0\n",
      "\n",
      "[4851 rows x 4 columns]\n"
     ]
    }
   ],
   "source": [
    "def chunk(s):\n",
    "    return s.value_counts()\n",
    "\n",
    "\n",
    "def agg(s):\n",
    "    return s.apply(lambda s: s.groupby(level=-1).sum())\n",
    "    s = s._selected_obj\n",
    "    return s.groupby(level=list(range(s.index.nlevels))).sum()\n",
    "\n",
    "\n",
    "def finalize(s):\n",
    "    level = list(range(s.index.nlevels - 1))\n",
    "    return (\n",
    "        s.groupby(level=level)\n",
    "        .apply(lambda s: s.reset_index(level=level, drop=True).argmax())\n",
    "    )\n",
    "\n",
    "mode = dd.Aggregation('mode', chunk, agg, finalize)\n",
    "columns = [\"Street Name\",\"Elementary\",\"High School\",'PoI']\n",
    "arr = list([[] for c in columns])\n",
    "df = dd.read_parquet(PARQUET_PATH, columns=['Date',\"Street Name\",\"Elementary\",\"High School\",'PoI',])\n",
    "df = df.groupby(\"Date\").agg(mode).compute()\n",
    "print(df)"
   ]
  },
  {
   "cell_type": "code",
   "execution_count": 43,
   "id": "58519709",
   "metadata": {},
   "outputs": [
    {
     "name": "stdout",
     "output_type": "stream",
     "text": [
      "Street Name                      1\n",
      "Elementary                       0\n",
      "High School                      0\n",
      "PoI                              0\n",
      "Date           2013-01-10 00:00:00\n",
      "Name: 2013-01-10, dtype: object\n"
     ]
    }
   ],
   "source": [
    "df[\"Date\"] = pd.to_datetime(df.index)\n",
    "df = df[(df[\"Date\"].dt.year > 2012) & (df[\"Date\"].dt.year < 2023)]\n",
    "print(df.iloc[1])"
   ]
  },
  {
   "cell_type": "code",
   "execution_count": 46,
   "id": "7cfb76f7",
   "metadata": {},
   "outputs": [
    {
     "data": {
      "text/html": [
       "<div>\n",
       "<style scoped>\n",
       "    .dataframe tbody tr th:only-of-type {\n",
       "        vertical-align: middle;\n",
       "    }\n",
       "\n",
       "    .dataframe tbody tr th {\n",
       "        vertical-align: top;\n",
       "    }\n",
       "\n",
       "    .dataframe thead th {\n",
       "        text-align: right;\n",
       "    }\n",
       "</style>\n",
       "<table border=\"1\" class=\"dataframe\">\n",
       "  <thead>\n",
       "    <tr style=\"text-align: right;\">\n",
       "      <th></th>\n",
       "      <th>Num Violations.</th>\n",
       "      <th>Street Name</th>\n",
       "      <th>Elementary</th>\n",
       "      <th>High School</th>\n",
       "      <th>PoI</th>\n",
       "    </tr>\n",
       "    <tr>\n",
       "      <th>Date</th>\n",
       "      <th></th>\n",
       "      <th></th>\n",
       "      <th></th>\n",
       "      <th></th>\n",
       "      <th></th>\n",
       "    </tr>\n",
       "  </thead>\n",
       "  <tbody>\n",
       "    <tr>\n",
       "      <th>2013-01-01</th>\n",
       "      <td>62</td>\n",
       "      <td>NaN</td>\n",
       "      <td>NaN</td>\n",
       "      <td>NaN</td>\n",
       "      <td>NaN</td>\n",
       "    </tr>\n",
       "    <tr>\n",
       "      <th>2013-01-02</th>\n",
       "      <td>85</td>\n",
       "      <td>NaN</td>\n",
       "      <td>NaN</td>\n",
       "      <td>NaN</td>\n",
       "      <td>NaN</td>\n",
       "    </tr>\n",
       "    <tr>\n",
       "      <th>2013-01-03</th>\n",
       "      <td>38</td>\n",
       "      <td>NaN</td>\n",
       "      <td>NaN</td>\n",
       "      <td>NaN</td>\n",
       "      <td>NaN</td>\n",
       "    </tr>\n",
       "    <tr>\n",
       "      <th>2013-01-04</th>\n",
       "      <td>105</td>\n",
       "      <td>NaN</td>\n",
       "      <td>NaN</td>\n",
       "      <td>NaN</td>\n",
       "      <td>NaN</td>\n",
       "    </tr>\n",
       "    <tr>\n",
       "      <th>2013-01-05</th>\n",
       "      <td>496</td>\n",
       "      <td>0.0</td>\n",
       "      <td>137.0</td>\n",
       "      <td>39.0</td>\n",
       "      <td>91.0</td>\n",
       "    </tr>\n",
       "  </tbody>\n",
       "</table>\n",
       "</div>"
      ],
      "text/plain": [
       "            Num Violations.  Street Name  Elementary  High School   PoI\n",
       "Date                                                                   \n",
       "2013-01-01               62          NaN         NaN          NaN   NaN\n",
       "2013-01-02               85          NaN         NaN          NaN   NaN\n",
       "2013-01-03               38          NaN         NaN          NaN   NaN\n",
       "2013-01-04              105          NaN         NaN          NaN   NaN\n",
       "2013-01-05              496          0.0       137.0         39.0  91.0"
      ]
     },
     "execution_count": 46,
     "metadata": {},
     "output_type": "execute_result"
    }
   ],
   "source": [
    "df.drop('Date', inplace = True, axis = 1)\n",
    "df_c.drop('Date', inplace = True, axis = 1)\n",
    "df_c = df_c.merge(df, on=\"Date\", how=\"left\")\n",
    "df_c.head(5)"
   ]
  },
  {
   "cell_type": "code",
   "execution_count": 48,
   "id": "3a5d9ec6",
   "metadata": {},
   "outputs": [
    {
     "data": {
      "text/html": [
       "<div>\n",
       "<style scoped>\n",
       "    .dataframe tbody tr th:only-of-type {\n",
       "        vertical-align: middle;\n",
       "    }\n",
       "\n",
       "    .dataframe tbody tr th {\n",
       "        vertical-align: top;\n",
       "    }\n",
       "\n",
       "    .dataframe thead th {\n",
       "        text-align: right;\n",
       "    }\n",
       "</style>\n",
       "<table border=\"1\" class=\"dataframe\">\n",
       "  <thead>\n",
       "    <tr style=\"text-align: right;\">\n",
       "      <th></th>\n",
       "      <th>Num Violations.</th>\n",
       "      <th>Street Name</th>\n",
       "      <th>Elementary</th>\n",
       "      <th>High School</th>\n",
       "      <th>PoI</th>\n",
       "      <th>AirTemp</th>\n",
       "    </tr>\n",
       "    <tr>\n",
       "      <th>Date</th>\n",
       "      <th></th>\n",
       "      <th></th>\n",
       "      <th></th>\n",
       "      <th></th>\n",
       "      <th></th>\n",
       "      <th></th>\n",
       "    </tr>\n",
       "  </thead>\n",
       "  <tbody>\n",
       "    <tr>\n",
       "      <th>2013-01-01</th>\n",
       "      <td>62</td>\n",
       "      <td>NaN</td>\n",
       "      <td>NaN</td>\n",
       "      <td>NaN</td>\n",
       "      <td>NaN</td>\n",
       "      <td>NaN</td>\n",
       "    </tr>\n",
       "    <tr>\n",
       "      <th>2013-01-02</th>\n",
       "      <td>85</td>\n",
       "      <td>NaN</td>\n",
       "      <td>NaN</td>\n",
       "      <td>NaN</td>\n",
       "      <td>NaN</td>\n",
       "      <td>NaN</td>\n",
       "    </tr>\n",
       "    <tr>\n",
       "      <th>2013-01-03</th>\n",
       "      <td>38</td>\n",
       "      <td>NaN</td>\n",
       "      <td>NaN</td>\n",
       "      <td>NaN</td>\n",
       "      <td>NaN</td>\n",
       "      <td>NaN</td>\n",
       "    </tr>\n",
       "    <tr>\n",
       "      <th>2013-01-04</th>\n",
       "      <td>105</td>\n",
       "      <td>NaN</td>\n",
       "      <td>NaN</td>\n",
       "      <td>NaN</td>\n",
       "      <td>NaN</td>\n",
       "      <td>NaN</td>\n",
       "    </tr>\n",
       "    <tr>\n",
       "      <th>2013-01-05</th>\n",
       "      <td>496</td>\n",
       "      <td>0.0</td>\n",
       "      <td>137.0</td>\n",
       "      <td>39.0</td>\n",
       "      <td>91.0</td>\n",
       "      <td>NaN</td>\n",
       "    </tr>\n",
       "  </tbody>\n",
       "</table>\n",
       "</div>"
      ],
      "text/plain": [
       "            Num Violations.  Street Name  Elementary  High School   PoI  \\\n",
       "Date                                                                      \n",
       "2013-01-01               62          NaN         NaN          NaN   NaN   \n",
       "2013-01-02               85          NaN         NaN          NaN   NaN   \n",
       "2013-01-03               38          NaN         NaN          NaN   NaN   \n",
       "2013-01-04              105          NaN         NaN          NaN   NaN   \n",
       "2013-01-05              496          0.0       137.0         39.0  91.0   \n",
       "\n",
       "            AirTemp  \n",
       "Date                 \n",
       "2013-01-01      NaN  \n",
       "2013-01-02      NaN  \n",
       "2013-01-03      NaN  \n",
       "2013-01-04      NaN  \n",
       "2013-01-05      NaN  "
      ]
     },
     "execution_count": 48,
     "metadata": {},
     "output_type": "execute_result"
    }
   ],
   "source": [
    "w = dd.read_parquet(PARQUET_PATH, columns=['Date',\"AirTemp\"])\n",
    "w = w.groupby(\"Date\").mean().compute()\n",
    "df_c = df_c.merge(w, on=\"Date\", how=\"left\")\n",
    "df_c.head(5)"
   ]
  },
  {
   "cell_type": "code",
   "execution_count": 49,
   "id": "24104533",
   "metadata": {},
   "outputs": [
    {
     "data": {
      "text/html": [
       "<div>\n",
       "<style scoped>\n",
       "    .dataframe tbody tr th:only-of-type {\n",
       "        vertical-align: middle;\n",
       "    }\n",
       "\n",
       "    .dataframe tbody tr th {\n",
       "        vertical-align: top;\n",
       "    }\n",
       "\n",
       "    .dataframe thead th {\n",
       "        text-align: right;\n",
       "    }\n",
       "</style>\n",
       "<table border=\"1\" class=\"dataframe\">\n",
       "  <thead>\n",
       "    <tr style=\"text-align: right;\">\n",
       "      <th></th>\n",
       "      <th>Num Violations.</th>\n",
       "      <th>Street Name</th>\n",
       "      <th>Elementary</th>\n",
       "      <th>High School</th>\n",
       "      <th>PoI</th>\n",
       "      <th>AirTemp</th>\n",
       "      <th>y</th>\n",
       "    </tr>\n",
       "    <tr>\n",
       "      <th>Date</th>\n",
       "      <th></th>\n",
       "      <th></th>\n",
       "      <th></th>\n",
       "      <th></th>\n",
       "      <th></th>\n",
       "      <th></th>\n",
       "      <th></th>\n",
       "    </tr>\n",
       "  </thead>\n",
       "  <tbody>\n",
       "    <tr>\n",
       "      <th>2013-01-01</th>\n",
       "      <td>62</td>\n",
       "      <td>NaN</td>\n",
       "      <td>NaN</td>\n",
       "      <td>NaN</td>\n",
       "      <td>NaN</td>\n",
       "      <td>NaN</td>\n",
       "      <td>False</td>\n",
       "    </tr>\n",
       "    <tr>\n",
       "      <th>2013-01-02</th>\n",
       "      <td>85</td>\n",
       "      <td>NaN</td>\n",
       "      <td>NaN</td>\n",
       "      <td>NaN</td>\n",
       "      <td>NaN</td>\n",
       "      <td>NaN</td>\n",
       "      <td>False</td>\n",
       "    </tr>\n",
       "    <tr>\n",
       "      <th>2013-01-03</th>\n",
       "      <td>38</td>\n",
       "      <td>NaN</td>\n",
       "      <td>NaN</td>\n",
       "      <td>NaN</td>\n",
       "      <td>NaN</td>\n",
       "      <td>NaN</td>\n",
       "      <td>False</td>\n",
       "    </tr>\n",
       "    <tr>\n",
       "      <th>2013-01-04</th>\n",
       "      <td>105</td>\n",
       "      <td>NaN</td>\n",
       "      <td>NaN</td>\n",
       "      <td>NaN</td>\n",
       "      <td>NaN</td>\n",
       "      <td>NaN</td>\n",
       "      <td>False</td>\n",
       "    </tr>\n",
       "    <tr>\n",
       "      <th>2013-01-05</th>\n",
       "      <td>496</td>\n",
       "      <td>0.0</td>\n",
       "      <td>137.0</td>\n",
       "      <td>39.0</td>\n",
       "      <td>91.0</td>\n",
       "      <td>NaN</td>\n",
       "      <td>False</td>\n",
       "    </tr>\n",
       "  </tbody>\n",
       "</table>\n",
       "</div>"
      ],
      "text/plain": [
       "            Num Violations.  Street Name  Elementary  High School   PoI  \\\n",
       "Date                                                                      \n",
       "2013-01-01               62          NaN         NaN          NaN   NaN   \n",
       "2013-01-02               85          NaN         NaN          NaN   NaN   \n",
       "2013-01-03               38          NaN         NaN          NaN   NaN   \n",
       "2013-01-04              105          NaN         NaN          NaN   NaN   \n",
       "2013-01-05              496          0.0       137.0         39.0  91.0   \n",
       "\n",
       "            AirTemp      y  \n",
       "Date                        \n",
       "2013-01-01      NaN  False  \n",
       "2013-01-02      NaN  False  \n",
       "2013-01-03      NaN  False  \n",
       "2013-01-04      NaN  False  \n",
       "2013-01-05      NaN  False  "
      ]
     },
     "execution_count": 49,
     "metadata": {},
     "output_type": "execute_result"
    }
   ],
   "source": [
    "df_c[\"y\"] = df_c[\"Num Violations.\"] > df_c[\"Num Violations.\"].mean()\n",
    "df_c.head(5)"
   ]
  },
  {
   "cell_type": "code",
   "execution_count": 62,
   "id": "e8dd8adb",
   "metadata": {},
   "outputs": [],
   "source": [
    "df_c.to_csv(\"/d/hpc/home/mf4782/BD_project/data_ml/data.csv\")"
   ]
  },
  {
   "cell_type": "markdown",
   "id": "93082255",
   "metadata": {},
   "source": [
    "# Predicting days with high amounts of tickets\n",
    "\n",
    "first we will predict days with high amounts of tickets"
   ]
  },
  {
   "cell_type": "code",
   "execution_count": 37,
   "id": "5a37302d",
   "metadata": {},
   "outputs": [],
   "source": [
    "df_c = pd.read_csv(\"/d/hpc/home/mf4782/BD_project/data_ml/data.csv\")\n",
    "columns = [\"Street Name\",\"Elementary\",\"High School\",'PoI',\"AirTemp\"]\n",
    "X = df_c[columns].values\n",
    "X = np.nan_to_num(X)\n",
    "y = df_c['y'].values"
   ]
  },
  {
   "cell_type": "code",
   "execution_count": 38,
   "id": "8e16dfd5",
   "metadata": {},
   "outputs": [
    {
     "name": "stdout",
     "output_type": "stream",
     "text": [
      "[[0. 0. 0. 0. 0.]\n",
      " [0. 0. 0. 0. 0.]\n",
      " [0. 0. 0. 0. 0.]\n",
      " ...\n",
      " [0. 0. 0. 0. 0.]\n",
      " [0. 3. 4. 2. 0.]\n",
      " [0. 0. 0. 0. 0.]]\n"
     ]
    }
   ],
   "source": [
    "p = 0.7\n",
    "split_margin = int(len(y) * p)\n",
    "X_train = X[:split_margin, :]\n",
    "X_test = X[split_margin:, :]\n",
    "y_train = y[:split_margin]\n",
    "y_test = y[split_margin:]\n",
    "print(X)"
   ]
  },
  {
   "cell_type": "markdown",
   "id": "787f61fc",
   "metadata": {},
   "source": [
    "### Dask ML\n",
    "\n",
    "First we will use Dask ML to learn a simple logistic regression"
   ]
  },
  {
   "cell_type": "code",
   "execution_count": 57,
   "id": "582ac6f3",
   "metadata": {},
   "outputs": [
    {
     "name": "stdout",
     "output_type": "stream",
     "text": [
      "Defaulting to user installation because normal site-packages is not writeable\n",
      "Requirement already satisfied: scikit-learn in /d/hpc/home/mf4782/.local/lib/python3.9/site-packages (1.1.1)\n",
      "Requirement already satisfied: threadpoolctl>=2.0.0 in /cvmfs/sling.si/modules/el7/software/Anaconda3/2021.11/lib/python3.9/site-packages (from scikit-learn) (2.2.0)\n",
      "Requirement already satisfied: numpy>=1.17.3 in /cvmfs/sling.si/modules/el7/software/Anaconda3/2021.11/lib/python3.9/site-packages (from scikit-learn) (1.20.3)\n",
      "Requirement already satisfied: scipy>=1.3.2 in /cvmfs/sling.si/modules/el7/software/Anaconda3/2021.11/lib/python3.9/site-packages (from scikit-learn) (1.7.1)\n",
      "Requirement already satisfied: joblib>=1.0.0 in /cvmfs/sling.si/modules/el7/software/Anaconda3/2021.11/lib/python3.9/site-packages (from scikit-learn) (1.1.0)\n",
      "Defaulting to user installation because normal site-packages is not writeable\n",
      "Requirement already satisfied: setuptools in /cvmfs/sling.si/modules/el7/software/Anaconda3/2021.11/lib/python3.9/site-packages (58.0.4)\n",
      "Collecting setuptools\n",
      "  Downloading setuptools-62.4.0-py3-none-any.whl (1.2 MB)\n",
      "\u001b[K     |████████████████████████████████| 1.2 MB 3.7 MB/s eta 0:00:01\n",
      "\u001b[?25hInstalling collected packages: setuptools\n",
      "\u001b[31mERROR: pip's dependency resolver does not currently take into account all the packages that are installed. This behaviour is the source of the following dependency conflicts.\n",
      "spyder 5.1.5 requires pyqt5<5.13, which is not installed.\n",
      "spyder 5.1.5 requires pyqtwebengine<5.13, which is not installed.\n",
      "conda-repo-cli 1.0.4 requires pathlib, which is not installed.\n",
      "anaconda-project 0.10.1 requires ruamel-yaml, which is not installed.\u001b[0m\n",
      "Successfully installed setuptools-62.4.0\n"
     ]
    }
   ],
   "source": [
    "!pip install scikit-learn --upgrade\n",
    "!pip install setuptools --upgrade"
   ]
  },
  {
   "cell_type": "code",
   "execution_count": 39,
   "id": "be449f67",
   "metadata": {},
   "outputs": [
    {
     "name": "stdout",
     "output_type": "stream",
     "text": [
      "On test set we achieved 92.40862230552952% accuracy in 0.47928571701049805s\n"
     ]
    }
   ],
   "source": [
    "import sklearn\n",
    "from dask_ml.linear_model import LogisticRegression\n",
    "from dask_ml.metrics import accuracy_score\n",
    "import time\n",
    "\n",
    "def fit_model_dask(Xtr, ytr, Xt, yt):\n",
    "    clf = LogisticRegression()\n",
    "    tic = time.time()\n",
    "    clf.fit(Xtr, ytr)\n",
    "    toc = time.time()\n",
    "    yp = clf.predict(Xt)\n",
    "    acc = accuracy_score(yt, yp)\n",
    "    return acc, toc - tic, clf\n",
    "    \n",
    "acc, t, clf = fit_model_dask(X_train, y_train, X_test, y_test)\n",
    "print(f\"On test set we achieved {acc*100}% accuracy in {t}s\")"
   ]
  },
  {
   "cell_type": "markdown",
   "id": "15020032",
   "metadata": {},
   "source": [
    "### Sklearn\n",
    "Then we will try the partial fit by sklearn"
   ]
  },
  {
   "cell_type": "code",
   "execution_count": 40,
   "id": "d27e3906",
   "metadata": {},
   "outputs": [
    {
     "name": "stdout",
     "output_type": "stream",
     "text": [
      "[0.7111486486486487, 0.643581081081081, 0.731418918918919, 0.5405405405405406, 0.6858108108108109]\n",
      "[0.007689714431762695, 0.007752180099487305, 0.007929563522338867, 0.00839996337890625, 0.0085906982421875]\n"
     ]
    }
   ],
   "source": [
    "from sklearn.model_selection import TimeSeriesSplit\n",
    "from sklearn.linear_model import Perceptron\n",
    "import joblib\n",
    "\n",
    "def fit_model_sklearn(X,y):\n",
    "    time_split = TimeSeriesSplit()\n",
    "    clf = Perceptron(tol=1e-3)\n",
    "    accs = []\n",
    "    times = []\n",
    "    ct = 0\n",
    "    for tr, te in time_split.split(X):\n",
    "        Xt, Xte = X[tr], X[te]\n",
    "        yt, yte = y[tr], y[te]\n",
    "        ct = ct + 1\n",
    "        with joblib.parallel_backend(\"dask\"):\n",
    "            if ct == 1:\n",
    "                tic = time.time()\n",
    "                clf.fit(Xt, yt)\n",
    "                toc = time.time()\n",
    "            else:\n",
    "                tic = time.time()\n",
    "                clf.partial_fit(Xt, yt)\n",
    "                toc = time.time()\n",
    "            yp = clf.predict(Xte)\n",
    "            acc = accuracy_score(yte, yp)\n",
    "            accs.append(acc)\n",
    "            times.append(toc-tic)\n",
    "    return accs, times, clf\n",
    "\n",
    "accs, times, clf = fit_model_sklearn(X,y)\n",
    "\n",
    "print(accs)\n",
    "print(times)\n",
    "                "
   ]
  },
  {
   "cell_type": "markdown",
   "id": "5dd96a46",
   "metadata": {},
   "source": [
    "### XGBOOST\n",
    "In the end we will fit xgboost"
   ]
  },
  {
   "cell_type": "code",
   "execution_count": 41,
   "id": "bacfc7f9",
   "metadata": {},
   "outputs": [
    {
     "name": "stdout",
     "output_type": "stream",
     "text": [
      "On test set we achieved 91.37769447047798% accuracy in 0.30095601081848145s\n"
     ]
    }
   ],
   "source": [
    "import xgboost\n",
    "import dask.array as da\n",
    "\n",
    "def fit_model_xgb(Xtr,ytr,Xt,yt):\n",
    "    train_mat = xgboost.dask.DaskDMatrix(client, da.from_array(Xtr), da.from_array(ytr))\n",
    "    test_mat = xgboost.dask.DaskDMatrix(client, da.from_array(Xt), da.from_array(yt))\n",
    "    \n",
    "    tic = time.time()\n",
    "    output = xgboost.dask.train(\n",
    "        client,\n",
    "        {\"verbosity\": 3, \"tree_method\": \"hist\", \"objective\": 'binary:logistic'},\n",
    "        train_mat,\n",
    "        num_boost_round=4,\n",
    "        verbose_eval=False,\n",
    "        evals=[(test_mat, \"test\")],\n",
    "    )\n",
    "    toc = time.time()\n",
    "    yp = xgboost.dask.predict(client, output, test_mat) > 0.5\n",
    "    acc = accuracy_score(yt,yp)\n",
    "    return acc,toc-tic, output, test_mat\n",
    "\n",
    "acc, t, output, test_mat = fit_model_xgb(X_train, y_train, X_test, y_test)\n",
    "print(f\"On test set we achieved {acc*100}% accuracy in {t}s\")"
   ]
  },
  {
   "cell_type": "markdown",
   "id": "3c261971",
   "metadata": {},
   "source": [
    "## Comparision"
   ]
  },
  {
   "cell_type": "code",
   "execution_count": 42,
   "id": "22eb7f1c",
   "metadata": {},
   "outputs": [],
   "source": [
    "import pickle\n",
    "import sys\n",
    "\n",
    "\n",
    "scores = []\n",
    "\n",
    "for i in range(10):\n",
    "    acc, t, clf = fit_model_dask(X_train, y_train, X_test, y_test)\n",
    "    size = sys.getsizeof(pickle.dumps(clf))\n",
    "    scores.append([\"Dask\", size, t, acc])\n",
    "    \n",
    "    accs, times, clf = fit_model_sklearn(X,y)\n",
    "    size = sys.getsizeof(pickle.dumps(clf))\n",
    "    scores.append([\"SKLearn\", size, np.mean(times), np.mean(accs)])\n",
    "\n",
    "    acc, t, clf, test_mat = fit_model_xgb(X_train, y_train, X_test, y_test)\n",
    "    size = sys.getsizeof(pickle.dumps(clf))\n",
    "    scores.append([\"XGBOOST\", size, t, acc])\n"
   ]
  },
  {
   "cell_type": "code",
   "execution_count": 43,
   "id": "3f7d87ed",
   "metadata": {},
   "outputs": [],
   "source": [
    "df = pd.DataFrame(scores, columns = [\"Model\",\"Size\",\"Time\",\"Accuracy\"])"
   ]
  },
  {
   "cell_type": "code",
   "execution_count": 44,
   "id": "558da417",
   "metadata": {},
   "outputs": [
    {
     "data": {
      "text/plain": [
       "[Text(0.5, 1.0, 'Size comparision for classification models')]"
      ]
     },
     "execution_count": 44,
     "metadata": {},
     "output_type": "execute_result"
    },
    {
     "data": {
      "image/png": "[encoded data removed]",
      "text/plain": [
       "<Figure size 864x864 with 1 Axes>"
      ]
     },
     "metadata": {},
     "output_type": "display_data"
    }
   ],
   "source": [
    "import matplotlib.pyplot as plt\n",
    "import seaborn as sns\n",
    "sns.set()\n",
    "plt.figure(figsize=(12,12))\n",
    "sns.barplot(data=df, x = 'Model', y = 'Size').set(title = \"Size comparision for classification models\")"
   ]
  },
  {
   "cell_type": "code",
   "execution_count": 45,
   "id": "0633c89e",
   "metadata": {},
   "outputs": [
    {
     "data": {
      "text/plain": [
       "[Text(0.5, 1.0, 'Time comparision for classification models')]"
      ]
     },
     "execution_count": 45,
     "metadata": {},
     "output_type": "execute_result"
    },
    {
     "data": {
      "image/png": "[encoded data removed]",
      "text/plain": [
       "<Figure size 864x864 with 1 Axes>"
      ]
     },
     "metadata": {},
     "output_type": "display_data"
    }
   ],
   "source": [
    "plt.figure(figsize=(12,12))\n",
    "sns.barplot(data=df, x = 'Model', y = 'Time').set(title = \"Time comparision for classification models\")"
   ]
  },
  {
   "cell_type": "code",
   "execution_count": 46,
   "id": "0032dd79",
   "metadata": {},
   "outputs": [
    {
     "data": {
      "text/plain": [
       "[Text(0.5, 1.0, 'Accuracy comparision for classification models')]"
      ]
     },
     "execution_count": 46,
     "metadata": {},
     "output_type": "execute_result"
    },
    {
     "data": {
      "image/png": "[encoded data removed]",
      "text/plain": [
       "<Figure size 864x864 with 1 Axes>"
      ]
     },
     "metadata": {},
     "output_type": "display_data"
    }
   ],
   "source": [
    "plt.figure(figsize=(12,12))\n",
    "sns.barplot(data=df, x = 'Model', y = 'Accuracy').set(title = \"Accuracy comparision for classification models\")"
   ]
  },
  {
   "cell_type": "markdown",
   "id": "4a75377b",
   "metadata": {},
   "source": [
    "# Prediction of air temp\n",
    "We will try to predict air temp based on num of violations"
   ]
  },
  {
   "cell_type": "code",
   "execution_count": 17,
   "id": "9308a2de",
   "metadata": {},
   "outputs": [],
   "source": [
    "df_c = pd.read_csv(\"/d/hpc/home/mf4782/BD_project/data_ml/data.csv\")\n",
    "df_c = df_c[~df_c[\"AirTemp\"].isnull()]\n",
    "columns = [\"Street Name\",\"Elementary\",\"High School\",'PoI',\"Num Violations.\"]\n",
    "X = df_c[columns].values\n",
    "X = np.nan_to_num(X)\n",
    "y = df_c['AirTemp'].values"
   ]
  },
  {
   "cell_type": "code",
   "execution_count": 18,
   "id": "6ef4098b",
   "metadata": {},
   "outputs": [
    {
     "name": "stdout",
     "output_type": "stream",
     "text": [
      "[[  4611.   7333.   6611.   6378.  86251.]\n",
      " [  1562.   3479.   3201.   3423.  15335.]\n",
      " [  4876.   7864.   7379.   7250.  85948.]\n",
      " ...\n",
      " [  3715.   8544.   8022.   7859. 103775.]\n",
      " [  6926.   8572.   8169.   8054. 104864.]\n",
      " [  9178.   8858.   8230.   8055.  85874.]]\n"
     ]
    }
   ],
   "source": [
    "p = 0.7\n",
    "split_margin = int(len(y) * p)\n",
    "X_train = X[:split_margin, :]\n",
    "X_test = X[split_margin:, :]\n",
    "y_train = y[:split_margin]\n",
    "y_test = y[split_margin:]\n",
    "print(X)"
   ]
  },
  {
   "cell_type": "markdown",
   "id": "39c9dc8f",
   "metadata": {},
   "source": [
    "### Dask ML\n",
    "\n",
    "First we will use Dask ML to learn a simple linear regression"
   ]
  },
  {
   "cell_type": "code",
   "execution_count": 19,
   "id": "d4d0f22d",
   "metadata": {},
   "outputs": [
    {
     "name": "stdout",
     "output_type": "stream",
     "text": [
      "On test set we achieved 5.872889512387099 MAE in 0.3387124538421631s\n"
     ]
    }
   ],
   "source": [
    "import sklearn\n",
    "from dask_ml.linear_model import LinearRegression\n",
    "from sklearn.metrics import mean_absolute_error\n",
    "import time\n",
    "\n",
    "def fit_model_dask(Xtr, ytr, Xt, yt):\n",
    "    clf = LinearRegression()\n",
    "    tic = time.time()\n",
    "    clf.fit(Xtr, ytr)\n",
    "    toc = time.time()\n",
    "    yp = clf.predict(Xt)\n",
    "    acc = mean_absolute_error(yt, yp)\n",
    "    return acc, toc - tic, clf\n",
    "    \n",
    "acc, t, clf = fit_model_dask(X_train, y_train, X_test, y_test)\n",
    "print(f\"On test set we achieved {acc} MAE in {t}s\")"
   ]
  },
  {
   "cell_type": "markdown",
   "id": "1161f901",
   "metadata": {},
   "source": [
    "### Sklearn\n",
    "Then we will try the partial fit by sklearn"
   ]
  },
  {
   "cell_type": "code",
   "execution_count": 20,
   "id": "f09fb2f7",
   "metadata": {},
   "outputs": [
    {
     "name": "stdout",
     "output_type": "stream",
     "text": [
      "[2.9575025263682016e+17, 4.1465349909884493e+18, 1.3230161757730378e+18, 6.659474329043329e+18, 1.0092230726193851e+18]\n",
      "[0.0019769668579101562, 0.0006494522094726562, 0.0006051063537597656, 0.0006463527679443359, 0.0006442070007324219]\n"
     ]
    }
   ],
   "source": [
    "from sklearn.model_selection import TimeSeriesSplit\n",
    "from sklearn.linear_model import SGDRegressor\n",
    "import joblib\n",
    "\n",
    "def fit_model_sklearn(X,y):\n",
    "    time_split = TimeSeriesSplit()\n",
    "    clf = SGDRegressor(tol=1e-5)\n",
    "    accs = []\n",
    "    times = []\n",
    "    ct = 0\n",
    "    for tr, te in time_split.split(X):\n",
    "        Xt, Xte = X[tr], X[te]\n",
    "        yt, yte = y[tr], y[te]\n",
    "        ct = ct + 1\n",
    "        with joblib.parallel_backend(\"dask\"):\n",
    "            if ct == 1:\n",
    "                tic = time.time()\n",
    "                clf.fit(Xt, yt)\n",
    "                toc = time.time()\n",
    "            else:\n",
    "                tic = time.time()\n",
    "                clf.partial_fit(Xt, yt)\n",
    "                toc = time.time()\n",
    "            yp = clf.predict(Xte)\n",
    "            acc = mean_absolute_error(yte, yp)\n",
    "            accs.append(acc)\n",
    "            times.append(toc-tic)\n",
    "    return accs, times, clf\n",
    "\n",
    "accs, times, clf = fit_model_sklearn(X,y)\n",
    "\n",
    "print(accs)\n",
    "print(times)\n",
    "                "
   ]
  },
  {
   "cell_type": "markdown",
   "id": "cbafeedf",
   "metadata": {},
   "source": [
    "### XGBOOST"
   ]
  },
  {
   "cell_type": "code",
   "execution_count": 21,
   "id": "a4ba6509",
   "metadata": {},
   "outputs": [
    {
     "name": "stdout",
     "output_type": "stream",
     "text": [
      "On test set we achieved 17.972714392929525 MAE in 0.24209141731262207s\n"
     ]
    }
   ],
   "source": [
    "import xgboost\n",
    "import dask.array as da\n",
    "\n",
    "def fit_model_xgb(Xtr,ytr,Xt,yt):\n",
    "    train_mat = xgboost.dask.DaskDMatrix(client, da.from_array(Xtr), da.from_array(ytr))\n",
    "    test_mat = xgboost.dask.DaskDMatrix(client, da.from_array(Xt), da.from_array(yt))\n",
    "    \n",
    "    tic = time.time()\n",
    "    output = xgboost.dask.train(\n",
    "        client,\n",
    "        {\"verbosity\": 3, \"tree_method\": \"hist\", \"objective\": 'reg:squarederror'},\n",
    "        train_mat,\n",
    "        num_boost_round=4,\n",
    "        verbose_eval=False,\n",
    "        evals=[(test_mat, \"test\")],\n",
    "    )\n",
    "    toc = time.time()\n",
    "    yp = xgboost.dask.predict(client, output, test_mat)\n",
    "    acc = mean_absolute_error(yt,yp)\n",
    "    return acc,toc-tic, output\n",
    "\n",
    "acc, t, clf = fit_model_xgb(X_train, y_train, X_test, y_test)\n",
    "print(f\"On test set we achieved {acc} MAE in {t}s\")"
   ]
  },
  {
   "cell_type": "markdown",
   "id": "712cd893",
   "metadata": {},
   "source": [
    "## Comparision"
   ]
  },
  {
   "cell_type": "code",
   "execution_count": 29,
   "id": "e4025874",
   "metadata": {},
   "outputs": [],
   "source": [
    "import pickle\n",
    "import sys\n",
    "\n",
    "\n",
    "scores = []\n",
    "\n",
    "for i in range(10):\n",
    "    acc, t, clf = fit_model_dask(X_train, y_train, X_test, y_test)\n",
    "    size = sys.getsizeof(pickle.dumps(clf))\n",
    "    scores.append([\"Dask\", size, t, acc])\n",
    "    \n",
    "    accs, times, clf = fit_model_sklearn(X,y)\n",
    "    size = sys.getsizeof(pickle.dumps(clf))\n",
    "    scores.append([\"SKLearn\", size, np.mean(times), np.mean(accs)])\n",
    "\n",
    "    acc, t, clf = fit_model_xgb(X_train, y_train, X_test, y_test)\n",
    "    size = sys.getsizeof(pickle.dumps(clf))\n",
    "    scores.append([\"XGBOOST\", size, t, acc])"
   ]
  },
  {
   "cell_type": "code",
   "execution_count": 30,
   "id": "f3d6ea65",
   "metadata": {},
   "outputs": [],
   "source": [
    "df = pd.DataFrame(scores, columns = [\"Model\",\"Size\",\"Time\",\"MAE\"])"
   ]
  },
  {
   "cell_type": "code",
   "execution_count": 31,
   "id": "c870ecf4",
   "metadata": {},
   "outputs": [
    {
     "data": {
      "text/plain": [
       "[Text(0.5, 1.0, 'Size comparision for regression models')]"
      ]
     },
     "execution_count": 31,
     "metadata": {},
     "output_type": "execute_result"
    },
    {
     "data": {
      "image/png": "[encoded data removed]",
      "text/plain": [
       "<Figure size 864x864 with 1 Axes>"
      ]
     },
     "metadata": {},
     "output_type": "display_data"
    }
   ],
   "source": [
    "plt.figure(figsize=(12,12))\n",
    "sns.barplot(data=df, x = 'Model', y = 'Size').set(title = \"Size comparision for regression models\")"
   ]
  },
  {
   "cell_type": "code",
   "execution_count": 32,
   "id": "0d880ec0",
   "metadata": {},
   "outputs": [
    {
     "data": {
      "text/plain": [
       "[Text(0.5, 1.0, 'Time comparision for regression models')]"
      ]
     },
     "execution_count": 32,
     "metadata": {},
     "output_type": "execute_result"
    },
    {
     "data": {
      "image/png": "[encoded data removed]",
      "text/plain": [
       "<Figure size 864x864 with 1 Axes>"
      ]
     },
     "metadata": {},
     "output_type": "display_data"
    }
   ],
   "source": [
    "plt.figure(figsize=(12,12))\n",
    "sns.barplot(data=df, x = 'Model', y = 'Time').set(title = \"Time comparision for regression models\")"
   ]
  },
  {
   "cell_type": "code",
   "execution_count": 35,
   "id": "8b4bfd51",
   "metadata": {},
   "outputs": [
    {
     "data": {
      "image/png": "[encoded data removed]",
      "text/plain": [
       "<Figure size 864x864 with 1 Axes>"
      ]
     },
     "metadata": {},
     "output_type": "display_data"
    }
   ],
   "source": [
    "plt.figure(figsize=(12,12))\n",
    "sns.barplot(data=df, x = 'Model', y = 'MAE').set(title = \"MAE comparision for regression models\")\n",
    "plt.yscale(\"log\")"
   ]
  },
  {
   "cell_type": "code",
   "execution_count": 33,
   "id": "8ba73bb2",
   "metadata": {},
   "outputs": [
    {
     "data": {
      "text/html": [
       "<div>\n",
       "<style scoped>\n",
       "    .dataframe tbody tr th:only-of-type {\n",
       "        vertical-align: middle;\n",
       "    }\n",
       "\n",
       "    .dataframe tbody tr th {\n",
       "        vertical-align: top;\n",
       "    }\n",
       "\n",
       "    .dataframe thead th {\n",
       "        text-align: right;\n",
       "    }\n",
       "</style>\n",
       "<table border=\"1\" class=\"dataframe\">\n",
       "  <thead>\n",
       "    <tr style=\"text-align: right;\">\n",
       "      <th></th>\n",
       "      <th>Model</th>\n",
       "      <th>Size</th>\n",
       "      <th>Time</th>\n",
       "      <th>MAE</th>\n",
       "    </tr>\n",
       "  </thead>\n",
       "  <tbody>\n",
       "    <tr>\n",
       "      <th>0</th>\n",
       "      <td>Dask</td>\n",
       "      <td>645</td>\n",
       "      <td>0.328862</td>\n",
       "      <td>5.872890e+00</td>\n",
       "    </tr>\n",
       "    <tr>\n",
       "      <th>1</th>\n",
       "      <td>SKLearn</td>\n",
       "      <td>771</td>\n",
       "      <td>0.000989</td>\n",
       "      <td>3.061418e+18</td>\n",
       "    </tr>\n",
       "    <tr>\n",
       "      <th>2</th>\n",
       "      <td>XGBOOST</td>\n",
       "      <td>6436</td>\n",
       "      <td>0.239134</td>\n",
       "      <td>1.797271e+01</td>\n",
       "    </tr>\n",
       "    <tr>\n",
       "      <th>3</th>\n",
       "      <td>Dask</td>\n",
       "      <td>645</td>\n",
       "      <td>0.441636</td>\n",
       "      <td>5.872890e+00</td>\n",
       "    </tr>\n",
       "    <tr>\n",
       "      <th>4</th>\n",
       "      <td>SKLearn</td>\n",
       "      <td>771</td>\n",
       "      <td>0.000958</td>\n",
       "      <td>3.515606e+18</td>\n",
       "    </tr>\n",
       "    <tr>\n",
       "      <th>5</th>\n",
       "      <td>XGBOOST</td>\n",
       "      <td>6436</td>\n",
       "      <td>0.255171</td>\n",
       "      <td>1.797271e+01</td>\n",
       "    </tr>\n",
       "    <tr>\n",
       "      <th>6</th>\n",
       "      <td>Dask</td>\n",
       "      <td>645</td>\n",
       "      <td>0.478518</td>\n",
       "      <td>5.872890e+00</td>\n",
       "    </tr>\n",
       "    <tr>\n",
       "      <th>7</th>\n",
       "      <td>SKLearn</td>\n",
       "      <td>771</td>\n",
       "      <td>0.001261</td>\n",
       "      <td>4.726665e+18</td>\n",
       "    </tr>\n",
       "    <tr>\n",
       "      <th>8</th>\n",
       "      <td>XGBOOST</td>\n",
       "      <td>6436</td>\n",
       "      <td>0.227994</td>\n",
       "      <td>1.797271e+01</td>\n",
       "    </tr>\n",
       "    <tr>\n",
       "      <th>9</th>\n",
       "      <td>Dask</td>\n",
       "      <td>645</td>\n",
       "      <td>0.520960</td>\n",
       "      <td>5.872890e+00</td>\n",
       "    </tr>\n",
       "    <tr>\n",
       "      <th>10</th>\n",
       "      <td>SKLearn</td>\n",
       "      <td>771</td>\n",
       "      <td>0.001302</td>\n",
       "      <td>3.123465e+18</td>\n",
       "    </tr>\n",
       "    <tr>\n",
       "      <th>11</th>\n",
       "      <td>XGBOOST</td>\n",
       "      <td>6436</td>\n",
       "      <td>0.239551</td>\n",
       "      <td>1.797271e+01</td>\n",
       "    </tr>\n",
       "    <tr>\n",
       "      <th>12</th>\n",
       "      <td>Dask</td>\n",
       "      <td>645</td>\n",
       "      <td>0.532585</td>\n",
       "      <td>5.872890e+00</td>\n",
       "    </tr>\n",
       "    <tr>\n",
       "      <th>13</th>\n",
       "      <td>SKLearn</td>\n",
       "      <td>771</td>\n",
       "      <td>0.001311</td>\n",
       "      <td>4.097146e+18</td>\n",
       "    </tr>\n",
       "    <tr>\n",
       "      <th>14</th>\n",
       "      <td>XGBOOST</td>\n",
       "      <td>6436</td>\n",
       "      <td>0.207718</td>\n",
       "      <td>1.797271e+01</td>\n",
       "    </tr>\n",
       "    <tr>\n",
       "      <th>15</th>\n",
       "      <td>Dask</td>\n",
       "      <td>645</td>\n",
       "      <td>0.505974</td>\n",
       "      <td>5.872890e+00</td>\n",
       "    </tr>\n",
       "    <tr>\n",
       "      <th>16</th>\n",
       "      <td>SKLearn</td>\n",
       "      <td>771</td>\n",
       "      <td>0.001276</td>\n",
       "      <td>1.743642e+18</td>\n",
       "    </tr>\n",
       "    <tr>\n",
       "      <th>17</th>\n",
       "      <td>XGBOOST</td>\n",
       "      <td>6436</td>\n",
       "      <td>0.190252</td>\n",
       "      <td>1.797271e+01</td>\n",
       "    </tr>\n",
       "    <tr>\n",
       "      <th>18</th>\n",
       "      <td>Dask</td>\n",
       "      <td>645</td>\n",
       "      <td>0.479658</td>\n",
       "      <td>5.872890e+00</td>\n",
       "    </tr>\n",
       "    <tr>\n",
       "      <th>19</th>\n",
       "      <td>SKLearn</td>\n",
       "      <td>771</td>\n",
       "      <td>0.001165</td>\n",
       "      <td>5.573955e+18</td>\n",
       "    </tr>\n",
       "    <tr>\n",
       "      <th>20</th>\n",
       "      <td>XGBOOST</td>\n",
       "      <td>6436</td>\n",
       "      <td>0.268024</td>\n",
       "      <td>1.797271e+01</td>\n",
       "    </tr>\n",
       "    <tr>\n",
       "      <th>21</th>\n",
       "      <td>Dask</td>\n",
       "      <td>645</td>\n",
       "      <td>0.498803</td>\n",
       "      <td>5.872890e+00</td>\n",
       "    </tr>\n",
       "    <tr>\n",
       "      <th>22</th>\n",
       "      <td>SKLearn</td>\n",
       "      <td>771</td>\n",
       "      <td>0.001084</td>\n",
       "      <td>4.836698e+18</td>\n",
       "    </tr>\n",
       "    <tr>\n",
       "      <th>23</th>\n",
       "      <td>XGBOOST</td>\n",
       "      <td>6436</td>\n",
       "      <td>0.213263</td>\n",
       "      <td>1.797271e+01</td>\n",
       "    </tr>\n",
       "    <tr>\n",
       "      <th>24</th>\n",
       "      <td>Dask</td>\n",
       "      <td>645</td>\n",
       "      <td>0.520182</td>\n",
       "      <td>5.872890e+00</td>\n",
       "    </tr>\n",
       "    <tr>\n",
       "      <th>25</th>\n",
       "      <td>SKLearn</td>\n",
       "      <td>771</td>\n",
       "      <td>0.001781</td>\n",
       "      <td>4.683640e+18</td>\n",
       "    </tr>\n",
       "    <tr>\n",
       "      <th>26</th>\n",
       "      <td>XGBOOST</td>\n",
       "      <td>6436</td>\n",
       "      <td>0.271114</td>\n",
       "      <td>1.797271e+01</td>\n",
       "    </tr>\n",
       "    <tr>\n",
       "      <th>27</th>\n",
       "      <td>Dask</td>\n",
       "      <td>645</td>\n",
       "      <td>0.509571</td>\n",
       "      <td>5.872890e+00</td>\n",
       "    </tr>\n",
       "    <tr>\n",
       "      <th>28</th>\n",
       "      <td>SKLearn</td>\n",
       "      <td>771</td>\n",
       "      <td>0.001241</td>\n",
       "      <td>3.159240e+18</td>\n",
       "    </tr>\n",
       "    <tr>\n",
       "      <th>29</th>\n",
       "      <td>XGBOOST</td>\n",
       "      <td>6436</td>\n",
       "      <td>0.193579</td>\n",
       "      <td>1.797271e+01</td>\n",
       "    </tr>\n",
       "  </tbody>\n",
       "</table>\n",
       "</div>"
      ],
      "text/plain": [
       "      Model  Size      Time           MAE\n",
       "0      Dask   645  0.328862  5.872890e+00\n",
       "1   SKLearn   771  0.000989  3.061418e+18\n",
       "2   XGBOOST  6436  0.239134  1.797271e+01\n",
       "3      Dask   645  0.441636  5.872890e+00\n",
       "4   SKLearn   771  0.000958  3.515606e+18\n",
       "5   XGBOOST  6436  0.255171  1.797271e+01\n",
       "6      Dask   645  0.478518  5.872890e+00\n",
       "7   SKLearn   771  0.001261  4.726665e+18\n",
       "8   XGBOOST  6436  0.227994  1.797271e+01\n",
       "9      Dask   645  0.520960  5.872890e+00\n",
       "10  SKLearn   771  0.001302  3.123465e+18\n",
       "11  XGBOOST  6436  0.239551  1.797271e+01\n",
       "12     Dask   645  0.532585  5.872890e+00\n",
       "13  SKLearn   771  0.001311  4.097146e+18\n",
       "14  XGBOOST  6436  0.207718  1.797271e+01\n",
       "15     Dask   645  0.505974  5.872890e+00\n",
       "16  SKLearn   771  0.001276  1.743642e+18\n",
       "17  XGBOOST  6436  0.190252  1.797271e+01\n",
       "18     Dask   645  0.479658  5.872890e+00\n",
       "19  SKLearn   771  0.001165  5.573955e+18\n",
       "20  XGBOOST  6436  0.268024  1.797271e+01\n",
       "21     Dask   645  0.498803  5.872890e+00\n",
       "22  SKLearn   771  0.001084  4.836698e+18\n",
       "23  XGBOOST  6436  0.213263  1.797271e+01\n",
       "24     Dask   645  0.520182  5.872890e+00\n",
       "25  SKLearn   771  0.001781  4.683640e+18\n",
       "26  XGBOOST  6436  0.271114  1.797271e+01\n",
       "27     Dask   645  0.509571  5.872890e+00\n",
       "28  SKLearn   771  0.001241  3.159240e+18\n",
       "29  XGBOOST  6436  0.193579  1.797271e+01"
      ]
     },
     "execution_count": 33,
     "metadata": {},
     "output_type": "execute_result"
    }
   ],
   "source": [
    "df"
   ]
  },
  {
   "cell_type": "code",
   "execution_count": null,
   "id": "11efdfe4",
   "metadata": {},
   "outputs": [],
   "source": []
  }
 ],
 "metadata": {
  "kernelspec": {
   "display_name": "BD_Project",
   "language": "python",
   "name": "bd_project"
  },
  "language_info": {
   "codemirror_mode": {
    "name": "ipython",
    "version": 3
   },
   "file_extension": ".py",
   "mimetype": "text/x-python",
   "name": "python",
   "nbconvert_exporter": "python",
   "pygments_lexer": "ipython3",
   "version": "3.9.7"
  }
 },
 "nbformat": 4,
 "nbformat_minor": 5
}
